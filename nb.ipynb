{
 "cells": [
  {
   "cell_type": "code",
   "execution_count": 31,
   "metadata": {},
   "outputs": [],
   "source": [
    "import pandas as pd\n",
    "\n",
    "import scipy.io\n",
    "import scipy.sparse\n",
    "\n",
    "dirpath = \"./.data/filtered_gene_bc_matrices/hg19/\""
   ]
  },
  {
   "cell_type": "code",
   "execution_count": 32,
   "metadata": {},
   "outputs": [],
   "source": [
    "dfg = pd.read_csv(dirpath + \"genes.tsv\", sep=\"\\t\", header=None)\n",
    "dfc = pd.read_csv(dirpath + \"barcodes.tsv\", sep=\"\\t\", header=None)\n"
   ]
  },
  {
   "cell_type": "markdown",
   "metadata": {},
   "source": [
    "### Genes/Features File\n",
    "\n",
    "The `genes.tsv` file contains a row for each feature found within the mtx matrix at least 2 columns.  \n",
    "The first column is the `feature's ID` and the second column contains the `feature's name`. A third column pay express the type of feature, such as gene experssion, antibody, CRISPR, or other. \n"
   ]
  },
  {
   "cell_type": "code",
   "execution_count": 64,
   "metadata": {},
   "outputs": [
    {
     "name": "stdout",
     "output_type": "stream",
     "text": [
      "                     0             1\n",
      "0      ENSG00000243485    MIR1302-10\n",
      "1      ENSG00000237613       FAM138A\n",
      "2      ENSG00000186092         OR4F5\n",
      "3      ENSG00000238009  RP11-34P13.7\n",
      "4      ENSG00000239945  RP11-34P13.8\n",
      "...                ...           ...\n",
      "32733  ENSG00000215635    AC145205.1\n",
      "32734  ENSG00000268590         BAGE5\n",
      "32735  ENSG00000251180    CU459201.1\n",
      "32736  ENSG00000215616    AC002321.2\n",
      "32737  ENSG00000215611    AC002321.1\n",
      "\n",
      "[32738 rows x 2 columns]\n",
      "ENSG00000243485    1\n",
      "ENSG00000232977    1\n",
      "ENSG00000205850    1\n",
      "ENSG00000240868    1\n",
      "ENSG00000240654    1\n",
      "                  ..\n",
      "ENSG00000237686    1\n",
      "ENSG00000223469    1\n",
      "ENSG00000272114    1\n",
      "ENSG00000112715    1\n",
      "ENSG00000215611    1\n",
      "Name: 0, Length: 32738, dtype: int64\n"
     ]
    }
   ],
   "source": [
    "print(dfg)\n",
    "print(dfg[0].value_counts())"
   ]
  },
  {
   "cell_type": "markdown",
   "metadata": {},
   "source": [
    "### Barcodes File\n",
    "\n",
    "The `barcodes.tsv` file contains a row for each column of the mtx matrix. Barcodes have a suffix indicates a GEM well (normally the suffix is \"-1\" indicated all came from a single GEM chip channel.)\n",
    "\n",
    "When mRNA is transcribed from a gene it produces \"transcriptomes\" which are the values in the file. The values within the matrix are the number of each transcriptomes observed, per cell. Nearly every cell contains the same genes, but different cells show different patterns of gene expressions which are responsible for many different properties and behaviours of cells. \n",
    "\n",
    "See https://www.genome.gov/about-genomics/fact-sheets/Transcriptome-Fact-Sheet\n"
   ]
  },
  {
   "cell_type": "code",
   "execution_count": 65,
   "metadata": {},
   "outputs": [
    {
     "name": "stdout",
     "output_type": "stream",
     "text": [
      "                     0\n",
      "0     AAACATACAACCAC-1\n",
      "1     AAACATTGAGCTAC-1\n",
      "2     AAACATTGATCAGC-1\n",
      "3     AAACCGTGCTTCCG-1\n",
      "4     AAACCGTGTATGCG-1\n",
      "...                ...\n",
      "2695  TTTCGAACTCTCAT-1\n",
      "2696  TTTCTACTGAGGCA-1\n",
      "2697  TTTCTACTTCCTCG-1\n",
      "2698  TTTGCATGAGAGGC-1\n",
      "2699  TTTGCATGCCTCAC-1\n",
      "\n",
      "[2700 rows x 1 columns]\n"
     ]
    }
   ],
   "source": [
    "print(dfc)"
   ]
  },
  {
   "cell_type": "markdown",
   "metadata": {},
   "source": [
    "\n",
    "https://broadinstitute.github.io/wot/file_formats/#:~:text=5.0-,MTX,row%20and%20column%20indices%2C%20respectively.  \n",
    "Rows are genes and headers columns are barcode. These files correspond to rows and column indices respectively."
   ]
  },
  {
   "cell_type": "code",
   "execution_count": 33,
   "metadata": {},
   "outputs": [
    {
     "name": "stdout",
     "output_type": "stream",
     "text": [
      "  (32708, 0)\t4.0\n",
      "  (32706, 0)\t1.0\n",
      "  (32705, 0)\t10.0\n",
      "  (32703, 0)\t1.0\n",
      "  (32702, 0)\t5.0\n",
      "  (32701, 0)\t6.0\n",
      "  (32699, 0)\t10.0\n",
      "  (32698, 0)\t25.0\n",
      "  (32697, 0)\t3.0\n",
      "  (32696, 0)\t8.0\n",
      "  (32526, 0)\t1.0\n",
      "  (32495, 0)\t1.0\n",
      "  (32398, 0)\t1.0\n",
      "  (32345, 0)\t1.0\n",
      "  (32323, 0)\t1.0\n",
      "  (32208, 0)\t1.0\n",
      "  (32128, 0)\t1.0\n",
      "  (32105, 0)\t1.0\n",
      "  (32092, 0)\t1.0\n",
      "  (32067, 0)\t1.0\n",
      "  (32044, 0)\t1.0\n",
      "  (32022, 0)\t25.0\n",
      "  (32016, 0)\t1.0\n",
      "  (31997, 0)\t1.0\n",
      "  (31991, 0)\t2.0\n",
      "  :\t:\n",
      "  (1201, 2699)\t1.0\n",
      "  (1184, 2699)\t1.0\n",
      "  (1109, 2699)\t7.0\n",
      "  (1010, 2699)\t1.0\n",
      "  (924, 2699)\t2.0\n",
      "  (908, 2699)\t9.0\n",
      "  (859, 2699)\t2.0\n",
      "  (756, 2699)\t1.0\n",
      "  (709, 2699)\t1.0\n",
      "  (687, 2699)\t1.0\n",
      "  (686, 2699)\t1.0\n",
      "  (678, 2699)\t2.0\n",
      "  (588, 2699)\t1.0\n",
      "  (558, 2699)\t3.0\n",
      "  (517, 2699)\t1.0\n",
      "  (492, 2699)\t19.0\n",
      "  (464, 2699)\t1.0\n",
      "  (457, 2699)\t1.0\n",
      "  (415, 2699)\t2.0\n",
      "  (412, 2699)\t2.0\n",
      "  (178, 2699)\t2.0\n",
      "  (166, 2699)\t4.0\n",
      "  (121, 2699)\t1.0\n",
      "  (120, 2699)\t1.0\n",
      "  (81, 2699)\t1.0\n"
     ]
    },
    {
     "data": {
      "text/plain": [
       "<32738x2700 sparse matrix of type '<class 'numpy.float64'>'\n",
       "\twith 2286884 stored elements in COOrdinate format>"
      ]
     },
     "execution_count": 33,
     "metadata": {},
     "output_type": "execute_result"
    }
   ],
   "source": [
    "# Load mtx file into dataframe\n",
    "# https://gist.github.com/Puriney/98544b779bcb815926f7acf87f537e61\n",
    "# 1) Read\n",
    "coo_mat = scipy.io.mmread(f\"{dirpath}matrix.mtx\")\n",
    "print(coo_mat)\n",
    "coo_mat\n"
   ]
  },
  {
   "cell_type": "code",
   "execution_count": 24,
   "metadata": {},
   "outputs": [
    {
     "name": "stdout",
     "output_type": "stream",
     "text": [
      "Compressed sparse column:\n",
      "  (70, 0)\t1.0\n",
      "  (166, 0)\t1.0\n",
      "  (178, 0)\t2.0\n",
      "  (326, 0)\t1.0\n",
      "  (363, 0)\t1.0\n",
      "  (410, 0)\t1.0\n",
      "  (412, 0)\t1.0\n",
      "  (492, 0)\t41.0\n",
      "  (494, 0)\t1.0\n",
      "  (495, 0)\t1.0\n",
      "  (496, 0)\t1.0\n",
      "  (525, 0)\t1.0\n",
      "  (556, 0)\t2.0\n",
      "  (558, 0)\t6.0\n",
      "  (671, 0)\t1.0\n",
      "  (684, 0)\t1.0\n",
      "  (735, 0)\t1.0\n",
      "  (770, 0)\t1.0\n",
      "  (793, 0)\t1.0\n",
      "  (820, 0)\t1.0\n",
      "  (859, 0)\t2.0\n",
      "  (871, 0)\t1.0\n",
      "  (908, 0)\t15.0\n",
      "  (926, 0)\t1.0\n",
      "  (941, 0)\t1.0\n",
      "  :\t:\n",
      "  (31849, 2699)\t1.0\n",
      "  (31855, 2699)\t1.0\n",
      "  (31887, 2699)\t1.0\n",
      "  (31949, 2699)\t2.0\n",
      "  (31970, 2699)\t2.0\n",
      "  (32022, 2699)\t17.0\n",
      "  (32044, 2699)\t1.0\n",
      "  (32047, 2699)\t2.0\n",
      "  (32059, 2699)\t1.0\n",
      "  (32065, 2699)\t1.0\n",
      "  (32066, 2699)\t1.0\n",
      "  (32082, 2699)\t1.0\n",
      "  (32186, 2699)\t1.0\n",
      "  (32193, 2699)\t1.0\n",
      "  (32322, 2699)\t1.0\n",
      "  (32442, 2699)\t1.0\n",
      "  (32543, 2699)\t1.0\n",
      "  (32581, 2699)\t1.0\n",
      "  (32641, 2699)\t1.0\n",
      "  (32696, 2699)\t3.0\n",
      "  (32697, 2699)\t1.0\n",
      "  (32698, 2699)\t7.0\n",
      "  (32702, 2699)\t1.0\n",
      "  (32705, 2699)\t1.0\n",
      "  (32708, 2699)\t3.0\n"
     ]
    },
    {
     "data": {
      "text/plain": [
       "<32738x2700 sparse matrix of type '<class 'numpy.float64'>'\n",
       "\twith 2286884 stored elements in Compressed Sparse Column format>"
      ]
     },
     "execution_count": 24,
     "metadata": {},
     "output_type": "execute_result"
    }
   ],
   "source": [
    "csc_mat = coo_mat.tocsc()\n",
    "print(\"Compressed sparse column:\")\n",
    "print(csc_mat)\n",
    "csc_mat\n"
   ]
  },
  {
   "cell_type": "code",
   "execution_count": 27,
   "metadata": {},
   "outputs": [
    {
     "name": "stdout",
     "output_type": "stream",
     "text": [
      "Compressed sparse row:\n",
      "  (5, 444)\t1.0\n",
      "  (5, 1017)\t1.0\n",
      "  (5, 1106)\t1.0\n",
      "  (5, 1161)\t1.0\n",
      "  (5, 1359)\t1.0\n",
      "  (5, 1434)\t1.0\n",
      "  (5, 1628)\t1.0\n",
      "  (5, 1798)\t1.0\n",
      "  (5, 1812)\t1.0\n",
      "  (8, 2176)\t1.0\n",
      "  (8, 2470)\t1.0\n",
      "  (8, 2539)\t1.0\n",
      "  (22, 593)\t1.0\n",
      "  (22, 1931)\t1.0\n",
      "  (22, 1934)\t1.0\n",
      "  (22, 2269)\t1.0\n",
      "  (22, 2405)\t1.0\n",
      "  (23, 194)\t1.0\n",
      "  (23, 1090)\t1.0\n",
      "  (23, 1233)\t1.0\n",
      "  (25, 53)\t1.0\n",
      "  (25, 1255)\t1.0\n",
      "  (26, 105)\t1.0\n",
      "  (26, 417)\t1.0\n",
      "  (26, 456)\t1.0\n",
      "  :\t:\n",
      "  (32732, 1761)\t1.0\n",
      "  (32732, 1825)\t1.0\n",
      "  (32732, 1937)\t1.0\n",
      "  (32732, 2038)\t1.0\n",
      "  (32732, 2080)\t1.0\n",
      "  (32732, 2122)\t1.0\n",
      "  (32732, 2178)\t1.0\n",
      "  (32732, 2226)\t1.0\n",
      "  (32732, 2242)\t1.0\n",
      "  (32732, 2246)\t1.0\n",
      "  (32732, 2262)\t1.0\n",
      "  (32732, 2312)\t1.0\n",
      "  (32732, 2313)\t1.0\n",
      "  (32732, 2334)\t1.0\n",
      "  (32732, 2374)\t2.0\n",
      "  (32732, 2383)\t1.0\n",
      "  (32732, 2419)\t1.0\n",
      "  (32732, 2443)\t1.0\n",
      "  (32732, 2527)\t1.0\n",
      "  (32732, 2588)\t1.0\n",
      "  (32732, 2610)\t1.0\n",
      "  (32732, 2655)\t1.0\n",
      "  (32732, 2659)\t1.0\n",
      "  (32732, 2687)\t1.0\n",
      "  (32732, 2693)\t1.0\n"
     ]
    },
    {
     "data": {
      "text/plain": [
       "<32738x2700 sparse matrix of type '<class 'numpy.float64'>'\n",
       "\twith 2286884 stored elements in Compressed Sparse Row format>"
      ]
     },
     "execution_count": 27,
     "metadata": {},
     "output_type": "execute_result"
    }
   ],
   "source": [
    "\n",
    "print(\"Compressed sparse row:\")\n",
    "csr_mat = coo_mat.tocsr(copy=True)\n",
    "print(csr_mat)\n",
    "csr_mat"
   ]
  },
  {
   "cell_type": "code",
   "execution_count": 34,
   "metadata": {},
   "outputs": [
    {
     "name": "stdout",
     "output_type": "stream",
     "text": [
      "       0     1     2     3     4     5     6     7     8     9     ...  2690  \\\n",
      "0       0.0   0.0   0.0   0.0   0.0   0.0   0.0   0.0   0.0   0.0  ...   0.0   \n",
      "1       0.0   0.0   0.0   0.0   0.0   0.0   0.0   0.0   0.0   0.0  ...   0.0   \n",
      "2       0.0   0.0   0.0   0.0   0.0   0.0   0.0   0.0   0.0   0.0  ...   0.0   \n",
      "3       0.0   0.0   0.0   0.0   0.0   0.0   0.0   0.0   0.0   0.0  ...   0.0   \n",
      "4       0.0   0.0   0.0   0.0   0.0   0.0   0.0   0.0   0.0   0.0  ...   0.0   \n",
      "...     ...   ...   ...   ...   ...   ...   ...   ...   ...   ...  ...   ...   \n",
      "32733   0.0   0.0   0.0   0.0   0.0   0.0   0.0   0.0   0.0   0.0  ...   0.0   \n",
      "32734   0.0   0.0   0.0   0.0   0.0   0.0   0.0   0.0   0.0   0.0  ...   0.0   \n",
      "32735   0.0   0.0   0.0   0.0   0.0   0.0   0.0   0.0   0.0   0.0  ...   0.0   \n",
      "32736   0.0   0.0   0.0   0.0   0.0   0.0   0.0   0.0   0.0   0.0  ...   0.0   \n",
      "32737   0.0   0.0   0.0   0.0   0.0   0.0   0.0   0.0   0.0   0.0  ...   0.0   \n",
      "\n",
      "       2691  2692  2693  2694  2695  2696  2697  2698  2699  \n",
      "0       0.0   0.0   0.0   0.0   0.0   0.0   0.0   0.0   0.0  \n",
      "1       0.0   0.0   0.0   0.0   0.0   0.0   0.0   0.0   0.0  \n",
      "2       0.0   0.0   0.0   0.0   0.0   0.0   0.0   0.0   0.0  \n",
      "3       0.0   0.0   0.0   0.0   0.0   0.0   0.0   0.0   0.0  \n",
      "4       0.0   0.0   0.0   0.0   0.0   0.0   0.0   0.0   0.0  \n",
      "...     ...   ...   ...   ...   ...   ...   ...   ...   ...  \n",
      "32733   0.0   0.0   0.0   0.0   0.0   0.0   0.0   0.0   0.0  \n",
      "32734   0.0   0.0   0.0   0.0   0.0   0.0   0.0   0.0   0.0  \n",
      "32735   0.0   0.0   0.0   0.0   0.0   0.0   0.0   0.0   0.0  \n",
      "32736   0.0   0.0   0.0   0.0   0.0   0.0   0.0   0.0   0.0  \n",
      "32737   0.0   0.0   0.0   0.0   0.0   0.0   0.0   0.0   0.0  \n",
      "\n",
      "[32738 rows x 2700 columns]\n"
     ]
    }
   ],
   "source": [
    "sp_df = pd.DataFrame(csr_mat.todense())#.fillna(0)\n",
    "print(sp_df)"
   ]
  },
  {
   "cell_type": "code",
   "execution_count": 35,
   "metadata": {},
   "outputs": [
    {
     "name": "stdout",
     "output_type": "stream",
     "text": [
      "       0     1     2     3     4     5     6     7     8     9     ...  2690  \\\n",
      "0       0.0   0.0   0.0   0.0   0.0   0.0   0.0   0.0   0.0   0.0  ...   0.0   \n",
      "1       0.0   0.0   0.0   0.0   0.0   0.0   0.0   0.0   0.0   0.0  ...   0.0   \n",
      "2       0.0   0.0   0.0   0.0   0.0   0.0   0.0   0.0   0.0   0.0  ...   0.0   \n",
      "3       0.0   0.0   0.0   0.0   0.0   0.0   0.0   0.0   0.0   0.0  ...   0.0   \n",
      "4       0.0   0.0   0.0   0.0   0.0   0.0   0.0   0.0   0.0   0.0  ...   0.0   \n",
      "...     ...   ...   ...   ...   ...   ...   ...   ...   ...   ...  ...   ...   \n",
      "32733   0.0   0.0   0.0   0.0   0.0   0.0   0.0   0.0   0.0   0.0  ...   0.0   \n",
      "32734   0.0   0.0   0.0   0.0   0.0   0.0   0.0   0.0   0.0   0.0  ...   0.0   \n",
      "32735   0.0   0.0   0.0   0.0   0.0   0.0   0.0   0.0   0.0   0.0  ...   0.0   \n",
      "32736   0.0   0.0   0.0   0.0   0.0   0.0   0.0   0.0   0.0   0.0  ...   0.0   \n",
      "32737   0.0   0.0   0.0   0.0   0.0   0.0   0.0   0.0   0.0   0.0  ...   0.0   \n",
      "\n",
      "       2691  2692  2693  2694  2695  2696  2697  2698  2699  \n",
      "0       0.0   0.0   0.0   0.0   0.0   0.0   0.0   0.0   0.0  \n",
      "1       0.0   0.0   0.0   0.0   0.0   0.0   0.0   0.0   0.0  \n",
      "2       0.0   0.0   0.0   0.0   0.0   0.0   0.0   0.0   0.0  \n",
      "3       0.0   0.0   0.0   0.0   0.0   0.0   0.0   0.0   0.0  \n",
      "4       0.0   0.0   0.0   0.0   0.0   0.0   0.0   0.0   0.0  \n",
      "...     ...   ...   ...   ...   ...   ...   ...   ...   ...  \n",
      "32733   0.0   0.0   0.0   0.0   0.0   0.0   0.0   0.0   0.0  \n",
      "32734   0.0   0.0   0.0   0.0   0.0   0.0   0.0   0.0   0.0  \n",
      "32735   0.0   0.0   0.0   0.0   0.0   0.0   0.0   0.0   0.0  \n",
      "32736   0.0   0.0   0.0   0.0   0.0   0.0   0.0   0.0   0.0  \n",
      "32737   0.0   0.0   0.0   0.0   0.0   0.0   0.0   0.0   0.0  \n",
      "\n",
      "[32738 rows x 2700 columns]\n"
     ]
    }
   ],
   "source": [
    "sp_df = pd.DataFrame(csr_mat.todense()).fillna(0)\n",
    "print(sp_df)\n"
   ]
  },
  {
   "cell_type": "code",
   "execution_count": 68,
   "metadata": {},
   "outputs": [
    {
     "data": {
      "text/plain": [
       "count     2700.000000\n",
       "mean      2366.900370\n",
       "std       1094.262076\n",
       "min        548.000000\n",
       "25%       1757.750000\n",
       "50%       2197.000000\n",
       "75%       2763.000000\n",
       "max      15844.000000\n",
       "dtype: float64"
      ]
     },
     "execution_count": 68,
     "metadata": {},
     "output_type": "execute_result"
    }
   ],
   "source": [
    "sp_df.sum().describe()"
   ]
  },
  {
   "cell_type": "code",
   "execution_count": 70,
   "metadata": {},
   "outputs": [
    {
     "data": {
      "text/plain": [
       "<AxesSubplot:>"
      ]
     },
     "execution_count": 70,
     "metadata": {},
     "output_type": "execute_result"
    },
    {
     "data": {
      "image/png": "[encoded data removed]",
      "text/plain": [
       "<Figure size 432x288 with 1 Axes>"
      ]
     },
     "metadata": {
      "needs_background": "light"
     },
     "output_type": "display_data"
    }
   ],
   "source": [
    "sp_df.sum().plot()"
   ]
  },
  {
   "cell_type": "code",
   "execution_count": null,
   "metadata": {},
   "outputs": [],
   "source": []
  }
 ],
 "metadata": {
  "interpreter": {
   "hash": "0ab299b2472d07a2c7787a7880212d27b0c812e6670fca3b49fda8200416703d"
  },
  "kernelspec": {
   "display_name": "Python 3.9.4 ('.env': venv)",
   "language": "python",
   "name": "python3"
  },
  "language_info": {
   "codemirror_mode": {
    "name": "ipython",
    "version": 3
   },
   "file_extension": ".py",
   "mimetype": "text/x-python",
   "name": "python",
   "nbconvert_exporter": "python",
   "pygments_lexer": "ipython3",
   "version": "3.9.4"
  },
  "orig_nbformat": 4
 },
 "nbformat": 4,
 "nbformat_minor": 2
}
